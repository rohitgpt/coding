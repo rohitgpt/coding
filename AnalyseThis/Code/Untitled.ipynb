{
 "cells": [
  {
   "cell_type": "code",
   "execution_count": 29,
   "metadata": {},
   "outputs": [
    {
     "ename": "TypeError",
     "evalue": "can only concatenate list (not \"int\") to list",
     "output_type": "error",
     "traceback": [
      "\u001b[0;31m---------------------------------------------------------------------------\u001b[0m",
      "\u001b[0;31mTypeError\u001b[0m                                 Traceback (most recent call last)",
      "\u001b[0;32m<ipython-input-29-72f94b3db936>\u001b[0m in \u001b[0;36m<module>\u001b[0;34m()\u001b[0m\n\u001b[1;32m     14\u001b[0m \u001b[0;31m# print(sorted(score))\u001b[0m\u001b[0;34m\u001b[0m\u001b[0;34m\u001b[0m\u001b[0m\n\u001b[1;32m     15\u001b[0m \u001b[0mindex\u001b[0m \u001b[0;34m=\u001b[0m \u001b[0msorted\u001b[0m\u001b[0;34m(\u001b[0m\u001b[0mrange\u001b[0m\u001b[0;34m(\u001b[0m\u001b[0mlen\u001b[0m\u001b[0;34m(\u001b[0m\u001b[0mscore\u001b[0m\u001b[0;34m)\u001b[0m\u001b[0;34m)\u001b[0m\u001b[0;34m,\u001b[0m \u001b[0mkey\u001b[0m\u001b[0;34m=\u001b[0m\u001b[0;32mlambda\u001b[0m \u001b[0mk\u001b[0m\u001b[0;34m:\u001b[0m \u001b[0mscore\u001b[0m\u001b[0;34m[\u001b[0m\u001b[0mk\u001b[0m\u001b[0;34m]\u001b[0m\u001b[0;34m)\u001b[0m\u001b[0;34m\u001b[0m\u001b[0m\n\u001b[0;32m---> 16\u001b[0;31m \u001b[0mprint\u001b[0m\u001b[0;34m(\u001b[0m\u001b[0mindex\u001b[0m\u001b[0;34m+\u001b[0m\u001b[0;36m350053\u001b[0m\u001b[0;34m)\u001b[0m\u001b[0;34m\u001b[0m\u001b[0m\n\u001b[0m\u001b[1;32m     17\u001b[0m \u001b[0;31m# for i in range()\u001b[0m\u001b[0;34m\u001b[0m\u001b[0;34m\u001b[0m\u001b[0m\n\u001b[1;32m     18\u001b[0m \u001b[0;31m# print(x[1:4])\u001b[0m\u001b[0;34m\u001b[0m\u001b[0;34m\u001b[0m\u001b[0m\n",
      "\u001b[0;31mTypeError\u001b[0m: can only concatenate list (not \"int\") to list"
     ]
    }
   ],
   "source": [
    "import csv\n",
    "import numpy\n",
    "fname = \"/home/krullun/Documents/coding/AnalyseThis/Leaderboard_dataset.csv\"\n",
    "reader = csv.reader(open(fname, \"r\"), delimiter=\",\")\n",
    "x = list(reader)\n",
    "for row in x:\n",
    "    print(row[])\n",
    "score = []\n",
    "for i in range(1, len(x)):\n",
    "    ans=0;\n",
    "    for data_point in x[i]:\n",
    "        if(data_point=='na' or data_point=='N/A' or data_point=='missing'):\n",
    "            ans+=1\n",
    "    score.append(ans)\n",
    "    \n",
    "# print(sorted(score))\n",
    "index = sorted(range(len(score)), key=lambda k: score[k])\n",
    "\n",
    "output_file = \"/home/krullun/Documents/coding/AnalyseThis/out.csv\"\n",
    "writer = \n",
    "print(index+350053)\n",
    "# for i in range()\n",
    "# print(x[1:4])\n",
    "# m = numpy.loadtxt(open(fname, \"rb\"), delimiter=\",\", skiprows=1)\n",
    "# print(m[1])"
   ]
  },
  {
   "cell_type": "code",
   "execution_count": 15,
   "metadata": {},
   "outputs": [
    {
     "name": "stdout",
     "output_type": "stream",
     "text": [
      "<_csv.Dialect object at 0x7f3b74683d88>\n"
     ]
    }
   ],
   "source": [
    "with open(\"/home/krullun/Documents/coding/AnalyseThis/Leaderboard_dataset.csv\", \"r\") as train_file:\n",
    "    fd = csv.reader(train_file, delimiter=',')\n",
    "    \n",
    "    print(fd.dialect)\n",
    "#     for i in range(len(fd)):\n",
    "#         print(\"\\t\".join(fd[i]))\n",
    "        \n",
    "# train_data = open(\"/home/krullun/Documents/coding/AnalyseThis/Leaderboard_dataset.csv\", \"r\")\n",
    "\n",
    "# lines = train_data.readlines()\n",
    "# for i in lines:\n",
    "#     print(i)\n",
    "    "
   ]
  },
  {
   "cell_type": "code",
   "execution_count": null,
   "metadata": {},
   "outputs": [],
   "source": []
  }
 ],
 "metadata": {
  "kernelspec": {
   "display_name": "Python 3",
   "language": "python",
   "name": "python3"
  },
  "language_info": {
   "codemirror_mode": {
    "name": "ipython",
    "version": 3
   },
   "file_extension": ".py",
   "mimetype": "text/x-python",
   "name": "python",
   "nbconvert_exporter": "python",
   "pygments_lexer": "ipython3",
   "version": "3.6.3"
  }
 },
 "nbformat": 4,
 "nbformat_minor": 2
}
