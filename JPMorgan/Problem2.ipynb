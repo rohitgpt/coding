{
 "cells": [
  {
   "cell_type": "markdown",
   "metadata": {},
   "source": [
    "## Approach\n",
    "Expected values are calculated by averaging 10000 simulated value for X and max(X-100, 0). For dE[max(X-100, 0)]/dsigma, method of forward differnce for partial derivative is used."
   ]
  },
  {
   "cell_type": "code",
   "execution_count": 1,
   "metadata": {},
   "outputs": [
    {
     "name": "stdout",
     "output_type": "stream",
     "text": [
      "[100.02430909777132, 0.6300704380138868, 3.1502768030156054]\n"
     ]
    }
   ],
   "source": [
    "a = 0.8;\n",
    "theta = 100;\n",
    "sigma = 0.2;\n",
    "X0 = 100;\n",
    "\n",
    "import numpy as np\n",
    "import math\n",
    "#Resolution of discretisation\n",
    "res = 100\n",
    "T = 2.0;\n",
    "dt = T/res;\n",
    "\n",
    "#No of simulations\n",
    "max_iter = 10000;\n",
    "\n",
    "#Initialising \n",
    "Exp1 = np.zeros(max_iter);\n",
    "Exp2 = np.zeros(max_iter);\n",
    "Exp3 = np.zeros(max_iter);\n",
    "\n",
    "epsilon = sigma*0.0001;\n",
    "#for every simulation\n",
    "for j in range(max_iter):\n",
    "    #draw from random normal variable\n",
    "    n = np.random.normal(0, 1, res)\n",
    "    #Initialise X and Xs\n",
    "    X = X0;\n",
    "    Xs = X0;\n",
    "    #for every time interval calculate X ans \n",
    "    for i in range(res):\n",
    "        X = X+a*(theta-X)*dt + sigma*n[i]*math.sqrt(X*dt)\n",
    "        Xs = Xs+a*(theta-Xs)*dt + (sigma+epsilon)*n[i]*math.sqrt(Xs*dt)\n",
    "\n",
    "    Exp1[j]=X;\n",
    "    Exp2[j]=max(X-100, 0);\n",
    "    Exp3[j]=max(Xs-100, 0);\n",
    "\n",
    "l = [np.mean(Exp1),np.mean(Exp2),(np.mean(Exp3)-np.mean(Exp2))/epsilon];\n",
    "\n",
    "print(l)\n"
   ]
  }
 ],
 "metadata": {
  "kernelspec": {
   "display_name": "Python 2",
   "language": "python",
   "name": "python2"
  },
  "language_info": {
   "codemirror_mode": {
    "name": "ipython",
    "version": 2
   },
   "file_extension": ".py",
   "mimetype": "text/x-python",
   "name": "python",
   "nbconvert_exporter": "python",
   "pygments_lexer": "ipython2",
   "version": "2.7.15rc1"
  }
 },
 "nbformat": 4,
 "nbformat_minor": 2
}
